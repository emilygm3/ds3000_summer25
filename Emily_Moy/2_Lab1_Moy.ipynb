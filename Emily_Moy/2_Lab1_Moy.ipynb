{
 "cells": [
  {
   "cell_type": "markdown",
   "metadata": {},
   "source": [
    "# DS 3000/CS 3200 Lab 1\n",
    "\n",
    "Due: Tuesday May 13 in-class\n",
    "\n",
    "### Submission Instructions\n",
    "Upload this `ipynb` file to GitHub, and then to Gradescope.  To ensure that your submitted `ipynb` file represents your latest code, make sure to give a fresh `Kernel > Restart & Run All` just before uploading the `ipynb` file to GitHub and verify that the correct version is represented on Gradescope.\n",
    "\n",
    "### Tips for success\n",
    "- Collaborate: bounce ideas off of each other, if you are having trouble you can ask your classmates or Dr. Gerber for help with specific issues, however...\n",
    "- [(See)](http://www.northeastern.edu/osccr/academic-integrity), i.e. you are welcome to **talk about/discuss** (*not* show or allow each other to copy your answers to) the problems."
   ]
  },
  {
   "cell_type": "markdown",
   "metadata": {},
   "source": [
    "# Part 1 (40 points): Intro to Markdown\n",
    "\n",
    "Use the markdown language below to create your own brief wikipedia-esque description of a topic related to International Government and Politics. \n",
    "\n",
    "Your mini-wiki page must include:\n",
    "- three headers: a title, subtitle and subsubtitle (the #, ##, ### syntax)\n",
    "- an embedded image from a web address (use an [image hosting site](https://makeawebsitehub.com/free-photo-hosting/) if you'd like to upload your own)\n",
    "- a **markdown** table of size at least 9 cells (i.e. 3 by 3, or 5 by 2)\n",
    "- a list in **markdown**\n",
    "- a link to another website\n",
    "\n",
    "To practice typing in math mode, also include a LaTeX formula describing how your final grade is going to be calculated based on the syllabus, something like:\n",
    "\n",
    "$$grade = weight_1*score_1 + weight_2*score_2$$\n",
    "\n",
    "Please be **brief** in your text.  Aim for roughly 3 sentences total of text."
   ]
  },
  {
   "cell_type": "markdown",
   "metadata": {},
   "source": [
    "# Human Rights\n",
    "This page serves as an introduction to human rights.\n",
    "\n",
    "## What are human rights?\n",
    "Human rights are universal rights that all humans, regardless of nationality, sex, national or ethnic origin, color, religion, language, or any other status, should be granted. All human rights are indivisible and interdependent, meaning that rights must exist and work together. They are equal and non-discriminatory.\n",
    "\n",
    "### Examples of human rights\n",
    "* Right to Life\n",
    "* Freedom from Torture and Cruel Treatment\n",
    "* Right to Education\n",
    "\n",
    "| Type of violation | Description |\n",
    "|------|-----|\n",
    "| Civil | when someone's basic rights are violated by another individual, group, or public authority, particularly within the context of civil and political rights | \n",
    "| Political   | when state or non-state actors infringe upon the fundamental rights and freedoms of individuals, particularly those related to civil and political participation | \n",
    "| Economic   | when a government or other entity fails to uphold the economic, social, and cultural rights of individuals or groups | \n",
    "| Social   | when a person's social rights, which are related to their well-being and quality of life, are infringed upon | \n",
    "| Cultural   | when a state fails to respect, protect, or fulfill cultural rights | \n",
    "\n",
    "Here is a [link](https://www.un.org/en/about-us/universal-declaration-of-human-rights) to learn more about human rights!\n",
    "\n",
    "Link if hyperlink isn't working: https://www.un.org/en/about-us/universal-declaration-of-human-rights\n",
    "\n",
    "![human rights](data:image/jpeg;base64,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)"
   ]
  },
  {
   "cell_type": "markdown",
   "metadata": {},
   "source": [
    "# Part 2: Numpy\n",
    "## Part 2.1: Creating Arrays (10 points)\n",
    "\n",
    "Create the following two arrays using the NumPy library and then print them out. Call the first array `array_a` and the second array `array_b` (make sure you keep the `import` statement below):\n",
    "\n",
    "$$\\mathbf{array_a} = \\begin{bmatrix}3 & 8 & -2 & 3\\\\\n",
    ".5 & -1 & 6 & 4\\\\\n",
    "-5 & 7 & -42 & 2\n",
    "\\end{bmatrix}$$\n",
    "\n",
    "$$\\mathbf{array_b} = \\begin{bmatrix}42 & 38 & 34\\\\\n",
    "30 & 26 & 22\\\\\n",
    "18 & 14 & 10\\\\\n",
    "6 & 2 & -2\\\\\n",
    "-6 & -10 & -14\n",
    "\\end{bmatrix}$$"
   ]
  },
  {
   "cell_type": "code",
   "execution_count": 7,
   "metadata": {},
   "outputs": [],
   "source": [
    "# make sure to import numpy library\n",
    "import numpy as np"
   ]
  },
  {
   "cell_type": "code",
   "execution_count": 8,
   "metadata": {},
   "outputs": [],
   "source": [
    "array_a = np.array([[3, 8, -2, 3], [.5, -1, 6, 4], [-5, 7, -42, 2]])\n",
    "array_b = np.array([[42, 38, 34], [30, 26, 22], [18, 14, 10], [6, 2, -2], [-6, -10, -14]])"
   ]
  },
  {
   "cell_type": "code",
   "execution_count": 9,
   "metadata": {},
   "outputs": [
    {
     "data": {
      "text/plain": [
       "array([[  3. ,   8. ,  -2. ,   3. ],\n",
       "       [  0.5,  -1. ,   6. ,   4. ],\n",
       "       [ -5. ,   7. , -42. ,   2. ]])"
      ]
     },
     "execution_count": 9,
     "metadata": {},
     "output_type": "execute_result"
    }
   ],
   "source": [
    "# uncomment below to print array_a\n",
    "array_a"
   ]
  },
  {
   "cell_type": "code",
   "execution_count": 10,
   "metadata": {},
   "outputs": [
    {
     "data": {
      "text/plain": [
       "array([[ 42,  38,  34],\n",
       "       [ 30,  26,  22],\n",
       "       [ 18,  14,  10],\n",
       "       [  6,   2,  -2],\n",
       "       [ -6, -10, -14]])"
      ]
     },
     "execution_count": 10,
     "metadata": {},
     "output_type": "execute_result"
    }
   ],
   "source": [
    "# uncomment below to print array_b\n",
    "array_b"
   ]
  },
  {
   "cell_type": "markdown",
   "metadata": {},
   "source": [
    "## Part 2.2: Exploring Arrays (15 points)\n",
    "\n",
    "1. Give the shape, size, ndim, and nbytes for each of the two arrays.\n",
    "1. Take the transpose of both arrays. Call these `t_array_a` and `t_array_b`.\n",
    "1. Try to add `array_a` and `t_array_b` (*prove* and *show* you did this with commented out code), then remove the last column of `t_array_b` and try to add them again. In a markdown cell, explain what happened."
   ]
  },
  {
   "cell_type": "code",
   "execution_count": 12,
   "metadata": {},
   "outputs": [
    {
     "name": "stdout",
     "output_type": "stream",
     "text": [
      "Array A shape: (3, 4) \n",
      "Array A size: 12 \n",
      "Array A ndim: 2 \n",
      "Array A nbytes: 96\n",
      "\n",
      "Array B shape: (5, 3) \n",
      "Array B size: 15 \n",
      "Array B ndim: 2 \n",
      "Array B nbytes: 120\n"
     ]
    }
   ],
   "source": [
    "print('Array A shape:', array_a.shape, '\\nArray A size:', array_a.size, '\\nArray A ndim:', array_a.ndim, '\\nArray A nbytes:', array_a.nbytes)\n",
    "print()\n",
    "print('Array B shape:', array_b.shape, '\\nArray B size:', array_b.size, '\\nArray B ndim:', array_b.ndim, '\\nArray B nbytes:', array_b.nbytes)"
   ]
  },
  {
   "cell_type": "code",
   "execution_count": 13,
   "metadata": {},
   "outputs": [
    {
     "data": {
      "text/plain": [
       "array([[  3. ,   0.5,  -5. ],\n",
       "       [  8. ,  -1. ,   7. ],\n",
       "       [ -2. ,   6. , -42. ],\n",
       "       [  3. ,   4. ,   2. ]])"
      ]
     },
     "execution_count": 13,
     "metadata": {},
     "output_type": "execute_result"
    }
   ],
   "source": [
    "t_array_a = array_a.T\n",
    "t_array_a"
   ]
  },
  {
   "cell_type": "code",
   "execution_count": 14,
   "metadata": {},
   "outputs": [
    {
     "data": {
      "text/plain": [
       "array([[ 42,  30,  18,   6,  -6],\n",
       "       [ 38,  26,  14,   2, -10],\n",
       "       [ 34,  22,  10,  -2, -14]])"
      ]
     },
     "execution_count": 14,
     "metadata": {},
     "output_type": "execute_result"
    }
   ],
   "source": [
    "t_array_b = array_b.T\n",
    "t_array_b"
   ]
  },
  {
   "cell_type": "code",
   "execution_count": 15,
   "metadata": {},
   "outputs": [],
   "source": [
    "# added = np.add(array_a, t_array_b)"
   ]
  },
  {
   "cell_type": "code",
   "execution_count": 16,
   "metadata": {},
   "outputs": [
    {
     "data": {
      "text/plain": [
       "array([[42, 30, 18,  6],\n",
       "       [38, 26, 14,  2],\n",
       "       [34, 22, 10, -2]])"
      ]
     },
     "execution_count": 16,
     "metadata": {},
     "output_type": "execute_result"
    }
   ],
   "source": [
    "t_array_b = t_array_b[0:3, 0:4]\n",
    "t_array_b"
   ]
  },
  {
   "cell_type": "code",
   "execution_count": 17,
   "metadata": {},
   "outputs": [
    {
     "data": {
      "text/plain": [
       "(3, 4)"
      ]
     },
     "execution_count": 17,
     "metadata": {},
     "output_type": "execute_result"
    }
   ],
   "source": [
    "array_a.shape\n"
   ]
  },
  {
   "cell_type": "code",
   "execution_count": 18,
   "metadata": {},
   "outputs": [
    {
     "data": {
      "text/plain": [
       "(3, 4)"
      ]
     },
     "execution_count": 18,
     "metadata": {},
     "output_type": "execute_result"
    }
   ],
   "source": [
    "t_array_b.shape"
   ]
  },
  {
   "cell_type": "code",
   "execution_count": 19,
   "metadata": {},
   "outputs": [
    {
     "data": {
      "text/plain": [
       "array([[ 45. ,  38. ,  16. ,   9. ],\n",
       "       [ 38.5,  25. ,  20. ,   6. ],\n",
       "       [ 29. ,  29. , -32. ,   0. ]])"
      ]
     },
     "execution_count": 19,
     "metadata": {},
     "output_type": "execute_result"
    }
   ],
   "source": [
    "added = np.add(array_a, t_array_b)\n",
    "added"
   ]
  },
  {
   "cell_type": "markdown",
   "metadata": {},
   "source": [
    "What happened: The first time I tried to add the arrays, I got an error message saying 'ValueError: operands could not be broadcast together with shapes (4,3) (3,5)'. This is because the two arrays were not the same shape, and in order to add arrays together, they need to be the same shape. So, adding arrays of shapes (4,3) and (3,4) would not work, but adding arrays of either (4,3) and (4,3) or (3,4) and (3,4) would work. Since both arrays at the end were of shape (3,4), they were able to be added together.\n"
   ]
  },
  {
   "cell_type": "markdown",
   "metadata": {},
   "source": [
    "# Part 3: Pandas\n",
    "## Part 3.1: Reading in Data (5 points)\n",
    "\n",
    "On Canvas is the `train_stations_europe.csv` file. It was adapted from [this Kaggle data set](https://www.kaggle.com/datasets/headsortails/train-stations-in-europe). Read this data set in, using the `id` as the index column, and print the first few rows of the data. Make sure you keep the `import` statement below!"
   ]
  },
  {
   "cell_type": "code",
   "execution_count": 22,
   "metadata": {},
   "outputs": [],
   "source": [
    "# make sure to import pandas library\n",
    "import pandas as pd"
   ]
  },
  {
   "cell_type": "code",
   "execution_count": 23,
   "metadata": {},
   "outputs": [
    {
     "data": {
      "text/html": [
       "<div>\n",
       "<style scoped>\n",
       "    .dataframe tbody tr th:only-of-type {\n",
       "        vertical-align: middle;\n",
       "    }\n",
       "\n",
       "    .dataframe tbody tr th {\n",
       "        vertical-align: top;\n",
       "    }\n",
       "\n",
       "    .dataframe thead th {\n",
       "        text-align: right;\n",
       "    }\n",
       "</style>\n",
       "<table border=\"1\" class=\"dataframe\">\n",
       "  <thead>\n",
       "    <tr style=\"text-align: right;\">\n",
       "      <th></th>\n",
       "      <th>name</th>\n",
       "      <th>latitude</th>\n",
       "      <th>longitude</th>\n",
       "      <th>parent_station_id</th>\n",
       "      <th>country</th>\n",
       "      <th>time_zone</th>\n",
       "      <th>is_city</th>\n",
       "      <th>is_main_station</th>\n",
       "      <th>is_airport</th>\n",
       "    </tr>\n",
       "    <tr>\n",
       "      <th>id</th>\n",
       "      <th></th>\n",
       "      <th></th>\n",
       "      <th></th>\n",
       "      <th></th>\n",
       "      <th></th>\n",
       "      <th></th>\n",
       "      <th></th>\n",
       "      <th></th>\n",
       "      <th></th>\n",
       "    </tr>\n",
       "  </thead>\n",
       "  <tbody>\n",
       "    <tr>\n",
       "      <th>1</th>\n",
       "      <td>Chateau-Arnoux-St-Auban</td>\n",
       "      <td>44.081790</td>\n",
       "      <td>6.001625</td>\n",
       "      <td>NaN</td>\n",
       "      <td>FR</td>\n",
       "      <td>Europe/Paris</td>\n",
       "      <td>True</td>\n",
       "      <td>False</td>\n",
       "      <td>False</td>\n",
       "    </tr>\n",
       "    <tr>\n",
       "      <th>2</th>\n",
       "      <td>Chateau-Arnoux-St-Auban</td>\n",
       "      <td>44.061565</td>\n",
       "      <td>5.997373</td>\n",
       "      <td>1.0</td>\n",
       "      <td>FR</td>\n",
       "      <td>Europe/Paris</td>\n",
       "      <td>False</td>\n",
       "      <td>True</td>\n",
       "      <td>False</td>\n",
       "    </tr>\n",
       "    <tr>\n",
       "      <th>3</th>\n",
       "      <td>Chateau-Arnoux Mairie</td>\n",
       "      <td>44.063863</td>\n",
       "      <td>6.011248</td>\n",
       "      <td>1.0</td>\n",
       "      <td>FR</td>\n",
       "      <td>Europe/Paris</td>\n",
       "      <td>False</td>\n",
       "      <td>False</td>\n",
       "      <td>False</td>\n",
       "    </tr>\n",
       "    <tr>\n",
       "      <th>4</th>\n",
       "      <td>Digne-les-Bains</td>\n",
       "      <td>44.350000</td>\n",
       "      <td>6.350000</td>\n",
       "      <td>NaN</td>\n",
       "      <td>FR</td>\n",
       "      <td>Europe/Paris</td>\n",
       "      <td>True</td>\n",
       "      <td>False</td>\n",
       "      <td>False</td>\n",
       "    </tr>\n",
       "    <tr>\n",
       "      <th>6</th>\n",
       "      <td>Digne-les-Bains</td>\n",
       "      <td>44.088710</td>\n",
       "      <td>6.222982</td>\n",
       "      <td>4.0</td>\n",
       "      <td>FR</td>\n",
       "      <td>Europe/Paris</td>\n",
       "      <td>False</td>\n",
       "      <td>True</td>\n",
       "      <td>False</td>\n",
       "    </tr>\n",
       "  </tbody>\n",
       "</table>\n",
       "</div>"
      ],
      "text/plain": [
       "                       name   latitude  longitude  parent_station_id country  \\\n",
       "id                                                                             \n",
       "1   Chateau-Arnoux-St-Auban  44.081790   6.001625                NaN      FR   \n",
       "2   Chateau-Arnoux-St-Auban  44.061565   5.997373                1.0      FR   \n",
       "3     Chateau-Arnoux Mairie  44.063863   6.011248                1.0      FR   \n",
       "4           Digne-les-Bains  44.350000   6.350000                NaN      FR   \n",
       "6           Digne-les-Bains  44.088710   6.222982                4.0      FR   \n",
       "\n",
       "       time_zone  is_city  is_main_station  is_airport  \n",
       "id                                                      \n",
       "1   Europe/Paris     True            False       False  \n",
       "2   Europe/Paris    False             True       False  \n",
       "3   Europe/Paris    False            False       False  \n",
       "4   Europe/Paris     True            False       False  \n",
       "6   Europe/Paris    False             True       False  "
      ]
     },
     "execution_count": 23,
     "metadata": {},
     "output_type": "execute_result"
    }
   ],
   "source": [
    "df = pd.read_csv('train_stations_europe.csv', index_col = 'id')\n",
    "df.head()"
   ]
  },
  {
   "cell_type": "markdown",
   "metadata": {},
   "source": [
    "## Part 3.2: Manipulating Data (20 points)\n",
    "\n",
    "1. Create a subset of the data set which (a) **includes** only train stations in Belgium and (b) **excludes** all train stations which are **not** in a city. Make sure to save this subset as a new data frame and print the first few rows of the data.\n",
    "1. Use the `.describe()` function to produce summary statistics for the subset from the previous part. Create a markdown cell and explain:\n",
    "    - What Series did the `.describe()` function run on? What Series did it not run on? What is the difference, and what does this mean the `.describe()` function is used for?"
   ]
  },
  {
   "cell_type": "code",
   "execution_count": 25,
   "metadata": {},
   "outputs": [
    {
     "data": {
      "text/html": [
       "<div>\n",
       "<style scoped>\n",
       "    .dataframe tbody tr th:only-of-type {\n",
       "        vertical-align: middle;\n",
       "    }\n",
       "\n",
       "    .dataframe tbody tr th {\n",
       "        vertical-align: top;\n",
       "    }\n",
       "\n",
       "    .dataframe thead th {\n",
       "        text-align: right;\n",
       "    }\n",
       "</style>\n",
       "<table border=\"1\" class=\"dataframe\">\n",
       "  <thead>\n",
       "    <tr style=\"text-align: right;\">\n",
       "      <th></th>\n",
       "      <th>name</th>\n",
       "      <th>latitude</th>\n",
       "      <th>longitude</th>\n",
       "      <th>parent_station_id</th>\n",
       "      <th>country</th>\n",
       "      <th>time_zone</th>\n",
       "      <th>is_city</th>\n",
       "      <th>is_main_station</th>\n",
       "      <th>is_airport</th>\n",
       "    </tr>\n",
       "    <tr>\n",
       "      <th>id</th>\n",
       "      <th></th>\n",
       "      <th></th>\n",
       "      <th></th>\n",
       "      <th></th>\n",
       "      <th></th>\n",
       "      <th></th>\n",
       "      <th></th>\n",
       "      <th></th>\n",
       "      <th></th>\n",
       "    </tr>\n",
       "  </thead>\n",
       "  <tbody>\n",
       "    <tr>\n",
       "      <th>1121</th>\n",
       "      <td>Tournai Frontiere</td>\n",
       "      <td>NaN</td>\n",
       "      <td>NaN</td>\n",
       "      <td>NaN</td>\n",
       "      <td>BE</td>\n",
       "      <td>Europe/Brussels</td>\n",
       "      <td>False</td>\n",
       "      <td>False</td>\n",
       "      <td>False</td>\n",
       "    </tr>\n",
       "    <tr>\n",
       "      <th>1122</th>\n",
       "      <td>Froyennes</td>\n",
       "      <td>NaN</td>\n",
       "      <td>NaN</td>\n",
       "      <td>NaN</td>\n",
       "      <td>BE</td>\n",
       "      <td>Europe/Brussels</td>\n",
       "      <td>False</td>\n",
       "      <td>False</td>\n",
       "      <td>False</td>\n",
       "    </tr>\n",
       "    <tr>\n",
       "      <th>1313</th>\n",
       "      <td>Mouscron</td>\n",
       "      <td>NaN</td>\n",
       "      <td>NaN</td>\n",
       "      <td>NaN</td>\n",
       "      <td>BE</td>\n",
       "      <td>Europe/Brussels</td>\n",
       "      <td>False</td>\n",
       "      <td>False</td>\n",
       "      <td>False</td>\n",
       "    </tr>\n",
       "    <tr>\n",
       "      <th>1354</th>\n",
       "      <td>Quevy Frontiere</td>\n",
       "      <td>NaN</td>\n",
       "      <td>NaN</td>\n",
       "      <td>6003.0</td>\n",
       "      <td>BE</td>\n",
       "      <td>Europe/Brussels</td>\n",
       "      <td>False</td>\n",
       "      <td>False</td>\n",
       "      <td>False</td>\n",
       "    </tr>\n",
       "    <tr>\n",
       "      <th>5893</th>\n",
       "      <td>Bruxelles-Midi</td>\n",
       "      <td>50.835374</td>\n",
       "      <td>4.335695</td>\n",
       "      <td>5974.0</td>\n",
       "      <td>BE</td>\n",
       "      <td>Europe/Brussels</td>\n",
       "      <td>False</td>\n",
       "      <td>True</td>\n",
       "      <td>False</td>\n",
       "    </tr>\n",
       "  </tbody>\n",
       "</table>\n",
       "</div>"
      ],
      "text/plain": [
       "                   name   latitude  longitude  parent_station_id country  \\\n",
       "id                                                                         \n",
       "1121  Tournai Frontiere        NaN        NaN                NaN      BE   \n",
       "1122          Froyennes        NaN        NaN                NaN      BE   \n",
       "1313           Mouscron        NaN        NaN                NaN      BE   \n",
       "1354    Quevy Frontiere        NaN        NaN             6003.0      BE   \n",
       "5893     Bruxelles-Midi  50.835374   4.335695             5974.0      BE   \n",
       "\n",
       "            time_zone  is_city  is_main_station  is_airport  \n",
       "id                                                           \n",
       "1121  Europe/Brussels    False            False       False  \n",
       "1122  Europe/Brussels    False            False       False  \n",
       "1313  Europe/Brussels    False            False       False  \n",
       "1354  Europe/Brussels    False            False       False  \n",
       "5893  Europe/Brussels    False             True       False  "
      ]
     },
     "execution_count": 25,
     "metadata": {},
     "output_type": "execute_result"
    }
   ],
   "source": [
    "filtered_df = df[(df['country'] == 'BE') & (df['is_city'] == False)]\n",
    "filtered_df.head()"
   ]
  },
  {
   "cell_type": "code",
   "execution_count": 26,
   "metadata": {},
   "outputs": [
    {
     "ename": "NameError",
     "evalue": "name 'final_df' is not defined",
     "output_type": "error",
     "traceback": [
      "\u001b[0;31m---------------------------------------------------------------------------\u001b[0m",
      "\u001b[0;31mNameError\u001b[0m                                 Traceback (most recent call last)",
      "Cell \u001b[0;32mIn[26], line 1\u001b[0m\n\u001b[0;32m----> 1\u001b[0m final_df\u001b[38;5;241m.\u001b[39mdescribe()\n",
      "\u001b[0;31mNameError\u001b[0m: name 'final_df' is not defined"
     ]
    }
   ],
   "source": [
    "filtered_df.describe()"
   ]
  },
  {
   "cell_type": "markdown",
   "metadata": {},
   "source": [
    "What Series did the `.describe()` function run on? What Series did it not run on? What is the difference, and what does this mean the `.describe()` function is used for?\n",
    "\n",
    "The `.describe()` function ran on the Series columns latitude, longitude, and parent_station_id. It did not run on the Series columns name, country, time_zone, is_city, is_main_station, and is_airport. The difference between these columns is that the columns that `.describe()` ran on were numerical, while the columns that `.describe()` were non-numerical. This means that the `.describe()` function is used to extract statistics from numerical values."
   ]
  },
  {
   "cell_type": "markdown",
   "metadata": {},
   "source": [
    "# Part 4: GitHub (10 points)\n",
    "\n",
    "When you finish the first three parts, give one last restart and run all to this file. Then, go to the [DS 3000 GitHub](https://github.com/eaegerber/ds3000_summer25), fork it and then clone it to your local machine. Then:\n",
    "\n",
    "- In the forked and cloned ds3000_summer25 repo, make a new branch (`git checkout -b lab-upload`)\n",
    "- Create a folder with your name (as Dr. Gerber did)\n",
    "- Navigate to that folder and place this jupyter notebook inside\n",
    "- Add the file as the change to be committed (`git add .\\Lab1_MyName.ipynb`)\n",
    "- Check `git status`, your changes should be staged\n",
    "- Commit the changes with a short message (`git commit -m \"My message\"`)\n",
    "- Push the repository to GitHub (`git push origin lab-upload`)\n",
    "- Navigate the the GitHub in the browser and create a pull request\n",
    "- Once the pull request is merged, you can delete your branch in the \"Pull Requests\" tab in the browser\n",
    "- Finally, upload the Lab to Gradescope. When you do so, it will give you the option to do it via GitHub; do that."
   ]
  }
 ],
 "metadata": {
  "kernelspec": {
   "display_name": "Python [conda env:base] *",
   "language": "python",
   "name": "conda-base-py"
  },
  "language_info": {
   "codemirror_mode": {
    "name": "ipython",
    "version": 3
   },
   "file_extension": ".py",
   "mimetype": "text/x-python",
   "name": "python",
   "nbconvert_exporter": "python",
   "pygments_lexer": "ipython3",
   "version": "3.12.7"
  }
 },
 "nbformat": 4,
 "nbformat_minor": 4
}
